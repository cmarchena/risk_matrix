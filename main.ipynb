{
 "cells": [
  {
   "cell_type": "code",
   "execution_count": null,
   "metadata": {},
   "outputs": [],
   "source": [
    "!pip install colorama\n"
   ]
  },
  {
   "cell_type": "code",
   "execution_count": null,
   "metadata": {},
   "outputs": [],
   "source": [
    "from colorama import init, Fore\n",
    "\n",
    "# Initialize colorama\n",
    "init()"
   ]
  },
  {
   "cell_type": "code",
   "execution_count": null,
   "metadata": {},
   "outputs": [],
   "source": [
    "risk_matrix = [\n",
    "    [4,'low', \"blue\", \"\\033[94m\"],\n",
    "    [6,'moderate',\"green\", '\\033[92m'],\n",
    "    [8,'high',\"orange\", '\\033[93m'],\n",
    "    [10, 'extreme', \"red\", '\\033[91m']\n",
    "]"
   ]
  },
  {
   "cell_type": "code",
   "execution_count": null,
   "metadata": {},
   "outputs": [],
   "source": [
    "color_mapping = {\n",
    "    \"blue\": Fore.BLUE,\n",
    "    \"green\": Fore.GREEN,\n",
    "    \"orange\": Fore.YELLOW,\n",
    "    \"red\": Fore.RED\n",
    "}"
   ]
  },
  {
   "cell_type": "code",
   "execution_count": null,
   "metadata": {},
   "outputs": [],
   "source": [
    "def calculateRiskLevel(impact, likeliness):\n",
    "    risk_level = impact + likeliness\n",
    "    risk_value = \"\"\n",
    "    for item in risk_matrix:\n",
    "        if risk_level <= item[0]:\n",
    "            risk_value =  item[1]\n",
    "            return f'For risk with impact {impact} and likeliness {likeliness} the level is {risk_value}'\n",
    "            "
   ]
  },
  {
   "cell_type": "code",
   "execution_count": null,
   "metadata": {},
   "outputs": [],
   "source": [
    "impact = 5\n",
    "likeliness = 5\n",
    "calculateRiskLevel(impact, likeliness)"
   ]
  },
  {
   "cell_type": "code",
   "execution_count": null,
   "metadata": {},
   "outputs": [],
   "source": [
    "from colorama import init, Fore\n",
    "import matplotlib.pyplot as plt\n"
   ]
  },
  {
   "cell_type": "code",
   "execution_count": 72,
   "metadata": {},
   "outputs": [
    {
     "name": "stdout",
     "output_type": "stream",
     "text": [
      "{1: 'b', 2: 'b', 3: 'b', 4: 'g', 5: 'g', 6: 'g', 7: 'g', 8: 'g', 9: 'g', 10: 'g', 11: 'y', 12: 'y', 13: 'y', 14: 'y', 15: 'y', 16: 'orange', 17: 'orange', 18: 'orange', 19: 'orange', 20: 'orange', 21: 'orange', 22: 'orange', 23: 'red', 24: 'red', 25: 'red'}\n",
      "<class 'str'>\n",
      "<class 'str'>\n",
      "<class 'str'>\n",
      "<class 'str'>\n",
      "<class 'str'>\n"
     ]
    },
    {
     "data": {
      "image/png": "[encoded data removed]",
      "text/plain": [
       "<Figure size 640x480 with 1 Axes>"
      ]
     },
     "metadata": {},
     "output_type": "display_data"
    }
   ],
   "source": [
    "import matplotlib.pyplot as plt\n",
    "from matplotlib.patches import Rectangle\n",
    "\n",
    "risks = [[1,2,2],[2,3,3],[3,4,5], [4,5,4], [5,5,5]]\n",
    "descriptions = [\"uno\", \"dos\", \"tres\", \"quattro\", \"funf\"]  # Store descriptions for legend\n",
    "status = True\n",
    "\n",
    "fig, ax = plt.subplots()\n",
    "\n",
    "# Define rectangle positions and colors\n",
    "rectangles = [\n",
    "    ((1, 1), 'b'), ((1, 2), 'b'), ((2, 1), 'b'),\n",
    "    ((1, 3), 'g'), ((3, 1), 'g'), ((2, 2), 'g'), ((2, 3), 'g'), ((3, 2), 'g'),\n",
    "    ((1, 4), 'g'), ((4, 1), 'g'), ((1, 5), 'y'), ((5, 1), 'y'),\n",
    "    ((2, 4), 'y'), ((4, 2), 'y'), ((3, 3), 'y'),\n",
    "    ((5, 2), 'orange'), ((2, 5), 'orange'), ((4, 3), 'orange'), ((3, 4), 'orange'),\n",
    "    ((4, 4), 'orange'), ((3, 5), 'orange'), ((5, 3), 'orange'),\n",
    "    ((5, 4), 'red'), ((4, 5), 'red'), ((5, 5), 'red')\n",
    "]\n",
    "\n",
    "# Add rectangles to the plot and store their handles for legend\n",
    "rect_handles = []\n",
    "for pos, color in rectangles:\n",
    "    rect = Rectangle(pos, width=1, height=1, color=color)\n",
    "    ax.add_patch(rect)\n",
    "    rect_handles.append(rect)\n",
    "legend_colors = []\n",
    "colors = {}\n",
    "for index, rectangle in enumerate(rectangles):\n",
    "    colors[index + 1] = rectangle[1]\n",
    "print(colors)\n",
    "# Call calculateRiskLevel and add scatter plot\n",
    "for risk in risks:\n",
    "    x, y, description = risk\n",
    "\n",
    "    color = colors.get(x+y)\n",
    "    print(type(color))\n",
    "    \"\"\"    rect = Rectangle(0,width=1, height=1, color=color)\n",
    "    ax.add_patch(rect)\n",
    "    \n",
    "    legend_colors.append(rect) \"\"\"\n",
    "    if x <= 5 and y <= 5:  # Check if point is within bounds\n",
    "        plt.scatter(x + 0.5, y + 0.5, color='black')  # Adjusting position slightly to the right\n",
    "        plt.text(x + 0.6, y + 0.6, description, fontsize=12, ha='left', va='bottom')  # Adding a label\n",
    "        legend_handles.append(Rectangle((0, 0), 1, 1, color=color)) \n",
    "    else:\n",
    "        plt.scatter(x + 0.5, y + 0.5, color=\"black\")  # Adjusting position slightly to the right\n",
    "        plt.text(x + 0.6, y + 0.6, description, fontsize=12, ha='left', va='bottom')  # Adding a label\n",
    "# Set plot limits and display grid\n",
    "plt.xlim(1, 6)\n",
    "plt.ylim(1, 6)\n",
    "plt.grid()\n",
    "\n",
    "\n",
    "# Create legend with corrected colors\n",
    "plt.legend( descriptions, loc='upper left')\n",
    "\n",
    "plt.show()\n"
   ]
  },
  {
   "cell_type": "code",
   "execution_count": 73,
   "metadata": {},
   "outputs": [
    {
     "data": {
      "image/png": "[encoded data removed]",
      "text/plain": [
       "<Figure size 640x480 with 1 Axes>"
      ]
     },
     "metadata": {},
     "output_type": "display_data"
    }
   ],
   "source": [
    "import matplotlib.pyplot as plt\n",
    "from matplotlib.patches import Rectangle\n",
    "import random\n",
    "from matplotlib.ticker import MultipleLocator, FormatStrFormatter\n",
    "import numpy as np\n",
    "\n",
    "# Define titles and values for x and y axes\n",
    "impact_values = [\"Insignificant\", \"Negligible\", \"Moderate\", \"Extensive\", \"Significant\"]\n",
    "likelihood_values = [\"Rare\", \"Unlikely\", \"Possible\", \"Likely\", \"Almost certain\"]\n",
    "# generate six tuples with randon numbers between 1 and 5\n",
    "\n",
    "random_tuples = [(random.randint(1,5), random.randint(1,5)) for i in range(6)]\n",
    "\n",
    "# print(random_tuples)\n",
    "\n",
    "\n",
    "risks = [\n",
    "    [1,random_tuples[0][0],random_tuples[0][1], \"uno\"],\n",
    "    [2,random_tuples[1][0], random_tuples[1][1], \"dos\"],\n",
    "    [3,random_tuples[2][0],random_tuples[2][1], \"tres\"], \n",
    "    [4,random_tuples[3][0],random_tuples[3][1], \"quattro\"], \n",
    "    [5,random_tuples[4][0],random_tuples[4][1], \"funf\"], \n",
    "    [6,random_tuples[5][0],random_tuples[5][1], \"sei\"]]\n",
    "# descriptions = [\"uno\", \"dos\", \"tres\", \"quattro\", \"funf\", \"sei\"]  # Store descriptions for legend\n",
    "\n",
    "fig, ax = plt.subplots()\n",
    "\n",
    "# Define rectangle positions and colors\n",
    "rectangles = [\n",
    "    ((1, 1), 'b'), ((1, 2), 'b'), ((2, 1), 'b'),\n",
    "    ((1, 3), 'g'), ((3, 1), 'g'), ((2, 2), 'g'), ((2, 3), 'g'), ((3, 2), 'g'),\n",
    "    ((1, 4), 'g'), ((4, 1), 'g'), ((1, 5), 'y'), ((5, 1), 'y'),\n",
    "    ((2, 4), 'y'), ((4, 2), 'y'), ((3, 3), 'y'),\n",
    "    ((5, 2), 'orange'), ((2, 5), 'orange'), ((4, 3), 'orange'), ((3, 4), 'orange'),\n",
    "    ((4, 4), 'orange'), ((3, 5), 'orange'), ((5, 3), 'orange'),\n",
    "    ((5, 4), 'red'), ((4, 5), 'red'), ((5, 5), 'red')\n",
    "]\n",
    "\n",
    "# Add rectangles to the plot\n",
    "risk_colors = ['b','g','y', 'orange', 'red']\n",
    "def get_color(x, y):\n",
    "    risk_level = x + y\n",
    "    if risk_level < 4:\n",
    "        return risk_colors[0]\n",
    "    elif risk_level < 6:\n",
    "        return risk_colors[1]\n",
    "    elif risk_level == 6:\n",
    "        return risk_colors[2]\n",
    "    elif risk_level <9:\n",
    "        return risk_colors[3]\n",
    "    else:\n",
    "        return risk_colors[4]\n",
    "for pos, color  in rectangles:\n",
    "    rect = Rectangle(pos, width=1, height=1, color=color)\n",
    "    ax.add_patch(rect)\n",
    "# Call calculateRiskLevel and add scatter plot\n",
    "legend_handles = []\n",
    "risks.sort(key=lambda x: x[1]+x[2])\n",
    "for risk in risks:\n",
    "    code, x, y, description = risk\n",
    "    color = get_color(x,y)\n",
    "    \n",
    "    legend_handles.append(Rectangle((0, 0), 1, 1, color=color))  # Add rectangle for legend\n",
    "    if x<= 5 and y<= 5:  # Check if color found\n",
    "        plt.scatter(x + 0.5, y + 0.5, color=\"black\")  # Adjusting position slightly to the right\n",
    "        plt.text(x + 0.6, y + 0.6, code, fontsize=12, ha='left', va='bottom')  # Adding a label\n",
    "    else:\n",
    "        plt.scatter(x - 0.5, y + 0.5, color=\"black\")  # Adjusting position slightly to the right\n",
    "        plt.text(x - 0.6, y + 0.6, code, fontsize=12, ha='left', va='bottom')  # Adding a label\n",
    "\n",
    "\n",
    "# Set plot limits and display grid\n",
    "plt.xlim(1, 6)\n",
    "plt.ylim(1, 6)\n",
    "plt.xlabel(\"Impact\", labelpad=20, fontsize=12)  # Add label padding and adjust font size\n",
    "\n",
    "plt.ylabel(\"Likelihood\", labelpad=60, fontsize=12) \n",
    "x = range(1, 7)\n",
    "y = range(1, 7)\n",
    "ax.set_xticks(x)\n",
    "ax.set_yticks(y)\n",
    "# Hide major tick labels\n",
    "# ax.tick_params(axis='x', which=\"minor\", pad=-2) \n",
    "ax.xaxis.set_major_formatter(plt.NullFormatter())\n",
    "ax.yaxis.set_major_formatter(plt.NullFormatter())\n",
    "\"\"\" minor_tick_positions = [(i + 0.5) for i in x] \n",
    "for label, position in zip(likelihood_values, minor_tick_positions):\n",
    "    ax.text(position, 0, label, ha='center', va='top', fontsize=8) \"\"\"\n",
    "minor_tick_positions = [(i + 0.1) for i in x] \n",
    "\n",
    "for label, position in zip(likelihood_values, minor_tick_positions):\n",
    "    ax.text(position +0.4, 0.7, label, verticalalignment=\"bottom\", ha='center', fontsize=8)\n",
    "\n",
    "minor_tick_positions = [(i + 0.1) for i in y]\n",
    "for label, position in zip(impact_values, minor_tick_positions):\n",
    "    ax.text(0.90, position + 0.4, label, ha='right', va='center', fontsize=8)\n",
    "\n",
    "\n",
    "\n",
    "\n",
    "plt.grid()\n",
    "\n",
    "descriptions = [ item[3] for item in risks]\n",
    "# Create legend with corrected colors\n",
    "plt.legend(legend_handles, descriptions, loc='upper left', bbox_to_anchor=(1.05, 1))\n",
    "\n",
    "bbox = fig.get_tightbbox(fig.canvas.get_renderer())\n",
    "\n",
    "# Add padding to all sides\n",
    "\n",
    "bbox = bbox.transformed(fig.transFigure.inverted())\n",
    "bbox.y1 += 0.0015\n",
    "bbox.x0 -= 0.001\n",
    "bbox.x1 += 0.001\n",
    "bbox.y0 -= 0.001\n",
    "bbox = bbox.transformed(fig.transFigure)\n",
    "\n",
    "# Save the figure with adjusted bounding box\n",
    "fig.savefig(\"plot.png\", bbox_inches=bbox)\n",
    "\n",
    "\n",
    "plt.show()\n"
   ]
  },
  {
   "cell_type": "code",
   "execution_count": null,
   "metadata": {},
   "outputs": [],
   "source": []
  }
 ],
 "metadata": {
  "kernelspec": {
   "display_name": "Python 3",
   "language": "python",
   "name": "python3"
  },
  "language_info": {
   "codemirror_mode": {
    "name": "ipython",
    "version": 3
   },
   "file_extension": ".py",
   "mimetype": "text/x-python",
   "name": "python",
   "nbconvert_exporter": "python",
   "pygments_lexer": "ipython3",
   "version": "3.10.12"
  }
 },
 "nbformat": 4,
 "nbformat_minor": 2
}
